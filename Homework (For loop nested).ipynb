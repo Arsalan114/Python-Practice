{
 "cells": [
  {
   "cell_type": "code",
   "execution_count": 4,
   "metadata": {},
   "outputs": [
    {
     "name": "stdout",
     "output_type": "stream",
     "text": [
      "Second Child Name:  Rohail  Nasir\n",
      "Second Child Name:  Rohail  Kamran\n",
      "Second Child Name:  Rohail  Sheikh\n",
      "Second Child Name:  Rohail  Qazi\n"
     ]
    }
   ],
   "source": [
    "first_names = [\"Asher \", \"Rohail \", \"Sami \",\"Neha\"]\n",
    "last_names = [\"Nasir\", \"Kamran\", \"Sheikh\", \"Qazi\"]\n",
    "full_names = []\n",
    "index =1\n",
    "\n",
    "for a_last_name in last_names:\n",
    "    for a_first_name in first_names:\n",
    "        full_names.append(a_first_name + \" \" +a_last_name)\n",
    "    print(\"Second Child Name: \", full_names[index])\n",
    "    index += 4\n",
    "   "
   ]
  },
  {
   "cell_type": "code",
   "execution_count": 5,
   "metadata": {},
   "outputs": [
    {
     "name": "stdout",
     "output_type": "stream",
     "text": [
      "Third Child Name:  Sami  Nasir\n",
      "Third Child Name:  Sami  Kamran\n",
      "Third Child Name:  Sami  Sheikh\n",
      "Third Child Name:  Sami  Qazi\n"
     ]
    }
   ],
   "source": [
    "first_names = [\"Asher \", \"Rohail \", \"Sami \",\"Neha\"]\n",
    "last_names = [\"Nasir\", \"Kamran\", \"Sheikh\", \"Qazi\"]\n",
    "full_names = []\n",
    "index =2\n",
    "\n",
    "for a_last_name in last_names:\n",
    "    for a_first_name in first_names:\n",
    "        full_names.append(a_first_name + \" \" +a_last_name)\n",
    "    print(\"Third Child Name: \", full_names[index])\n",
    "    index += 4"
   ]
  },
  {
   "cell_type": "code",
   "execution_count": null,
   "metadata": {},
   "outputs": [],
   "source": []
  }
 ],
 "metadata": {
  "kernelspec": {
   "display_name": "Python 3",
   "language": "python",
   "name": "python3"
  },
  "language_info": {
   "codemirror_mode": {
    "name": "ipython",
    "version": 3
   },
   "file_extension": ".py",
   "mimetype": "text/x-python",
   "name": "python",
   "nbconvert_exporter": "python",
   "pygments_lexer": "ipython3",
   "version": "3.7.3"
  }
 },
 "nbformat": 4,
 "nbformat_minor": 2
}
