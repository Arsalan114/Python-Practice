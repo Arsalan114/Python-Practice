{
 "cells": [
  {
   "cell_type": "code",
   "execution_count": 11,
   "metadata": {},
   "outputs": [
    {
     "name": "stdout",
     "output_type": "stream",
     "text": [
      "Input Radius 7\n",
      "Area of the Circle with Radius  7  is  153.958\n"
     ]
    }
   ],
   "source": [
    "# 1. Write a Python program which accepts the radius of a circle from the user and compute the area.\n",
    "\n",
    "radius = int(input(\"Input Radius \"))\n",
    "Area_of_Circle = 3.142 * (radius**2)\n",
    "\n",
    "print(\"Area of the Circle with Radius \", radius, \" is \" , Area_of_Circle)"
   ]
  },
  {
   "cell_type": "code",
   "execution_count": 15,
   "metadata": {},
   "outputs": [
    {
     "name": "stdout",
     "output_type": "stream",
     "text": [
      "Enter Number-6\n",
      "Negative Number Entered\n"
     ]
    }
   ],
   "source": [
    "# 2. Write a Python program to check if a number is positive, negative or zero\n",
    "\n",
    "number = int(input(\"Enter Number\"))\n",
    "if number < 0:\n",
    "    print(\"Negative Number Entered\")\n",
    "if number > 0:\n",
    "    print(\"Positive Number Entered\")\n",
    "if number == 0:\n",
    "    print(\"Zero Entered\")"
   ]
  },
  {
   "cell_type": "code",
   "execution_count": 20,
   "metadata": {},
   "outputs": [
    {
     "name": "stdout",
     "output_type": "stream",
     "text": [
      "Enter Numerator 8\n",
      "Enter Denominator 4\n",
      "Number  8  is completely divisible by  4\n"
     ]
    }
   ],
   "source": [
    "# 3. Write a Python program to check whether a number is completely divisible by another number. Accept two integer values form the user\n",
    "\n",
    "numerator = int(input(\"Enter Numerator \"))\n",
    "denomenator = int(input(\"Enter Denominator \"))\n",
    "divisible = numerator/denomenator\n",
    "\n",
    "\n",
    "if numerator % denomenator == 0:\n",
    "    print(\"Number \", numerator, \" is completely divisible by \", denomenator)"
   ]
  },
  {
   "cell_type": "code",
   "execution_count": 21,
   "metadata": {},
   "outputs": [
    {
     "name": "stdout",
     "output_type": "stream",
     "text": [
      "Enter Numerator 8\n",
      "Enter Denominator 5\n",
      "Number  8  is not divisible by  5\n"
     ]
    }
   ],
   "source": [
    "# 3. Write a Python program to check whether a number is completely divisible by another number. Accept two integer values form the user\n",
    "\n",
    "numerator = int(input(\"Enter Numerator \"))\n",
    "denomenator = int(input(\"Enter Denominator \"))\n",
    "divisible = numerator/denomenator\n",
    "\n",
    "\n",
    "if numerator % denomenator == 0:\n",
    "    print(\"Number \", numerator, \" is completely divisible by \", denomenator)\n",
    "else:\n",
    "    print(\"Number \", numerator, \" is not divisible by \", denomenator)"
   ]
  },
  {
   "cell_type": "code",
   "execution_count": null,
   "metadata": {},
   "outputs": [],
   "source": [
    "# 4 Write a Python program to calculate number of days between two dates\n",
    "\n",
    "import datetime\n",
    "from datetime import date\n",
    "date_format = \"%d/%m/%y\"\n",
    "date1 = input(\"Enter a Date in format DD/MM/YY\")\n",
    "date2 = input(\"Enter a Date in format DD/MM/YY\")\n",
    "date1 = datetime.strptime(date1, date_format)\n",
    "date2 = datetime.strptime(date2, date_format)\n",
    "diff = date2-date1\n",
    "print(\"There are \", diff, \" days in between \", date1, \" and \", date2)"
   ]
  },
  {
   "cell_type": "code",
   "execution_count": 22,
   "metadata": {},
   "outputs": [
    {
     "name": "stdout",
     "output_type": "stream",
     "text": [
      "Enter Radius of the Sphere 1\n",
      "Volume of the Sphere with Radius  1.0  is  4.189333333333333\n"
     ]
    }
   ],
   "source": [
    "# 5. Write a Python program to get the volume of a sphere, please take the radius as input from user\n",
    "\n",
    "radius = float(input(\"Enter Radius of the Sphere \"))\n",
    "Volume = (4/3)*3.142*(radius**3)\n",
    "print(\"Volume of the Sphere with Radius \", radius, \" is \", Volume)"
   ]
  },
  {
   "cell_type": "code",
   "execution_count": 23,
   "metadata": {},
   "outputs": [
    {
     "name": "stdout",
     "output_type": "stream",
     "text": [
      "Enter String Hey!\n",
      "How many Copies do you need 3\n",
      "3  copies of String are  Hey!Hey!Hey!\n"
     ]
    }
   ],
   "source": [
    "# 6. Write a Python program to get a string which is n (non-negative integer) copies of a given string.\n",
    "\n",
    "string = str(input(\"Enter String \"))\n",
    "nos = int(input(\"How many Copies do you need \"))\n",
    "copies = string * nos\n",
    "\n",
    "print(nos, \" copies of String are \", copies)\n"
   ]
  },
  {
   "cell_type": "code",
   "execution_count": 24,
   "metadata": {},
   "outputs": [
    {
     "name": "stdout",
     "output_type": "stream",
     "text": [
      "Enter Number 6\n",
      "6  is Even\n"
     ]
    }
   ],
   "source": [
    "# 7. Write a Python program to find whether a given number (accept from the user) is even or odd, print out an appropriate message to the user\n",
    "\n",
    "num = int(input(\"Enter Number \"))\n",
    "\n",
    "if num % 2 == 0:\n",
    "    print(num, \" is Even\")\n",
    "if num % 2 != 0:\n",
    "     print(num, \" is Odd\")"
   ]
  },
  {
   "cell_type": "code",
   "execution_count": 25,
   "metadata": {},
   "outputs": [
    {
     "name": "stdout",
     "output_type": "stream",
     "text": [
      "Enter Number 9\n",
      "9  is Odd\n"
     ]
    }
   ],
   "source": [
    "# 7. Write a Python program to find whether a given number (accept from the user) is even or odd, print out an appropriate message to the user\n",
    "\n",
    "num = int(input(\"Enter Number \"))\n",
    "\n",
    "if num % 2 == 0:\n",
    "    print(num, \" is Even\")\n",
    "if num % 2 != 0:\n",
    "     print(num, \" is Odd\")"
   ]
  },
  {
   "cell_type": "code",
   "execution_count": 30,
   "metadata": {},
   "outputs": [
    {
     "name": "stdout",
     "output_type": "stream",
     "text": [
      "Enter a character: a\n",
      "Letter  A  is Vowel\n"
     ]
    }
   ],
   "source": [
    "#8. Write a Python program to test whether a passed letter is a vowel or not.\n",
    "\n",
    "Vowels = [\"A\",\"E\", \"I\", \"O\", \"U\"]\n",
    "letter = input(\"Enter a character: \")\n",
    "letter = letter.upper()\n",
    "\n",
    "for vowels in Vowels:\n",
    "    if letter == vowels:\n",
    "        print(\"Letter \", letter, \" is Vowel\")\n",
    "        break\n",
    "else:\n",
    "    print(\"Letter \", letter, \" is not Vowel\")"
   ]
  },
  {
   "cell_type": "code",
   "execution_count": 32,
   "metadata": {},
   "outputs": [
    {
     "name": "stdout",
     "output_type": "stream",
     "text": [
      "Enter a character: g\n",
      "Letter  g  is not Vowel\n"
     ]
    }
   ],
   "source": [
    "#8. Write a Python program to test whether a passed letter is a vowel or not.\n",
    "\n",
    "Vowels = [\"A\",\"E\", \"I\", \"O\", \"U\"]\n",
    "letter = input(\"Enter a character: \")\n",
    "letter_u = letter.upper()\n",
    "\n",
    "for vowels in Vowels:\n",
    "    if letter_u == vowels:\n",
    "        print(\"Letter \", letter, \" is Vowel\")\n",
    "        break\n",
    "else:\n",
    "    print(\"Letter \", letter, \" is not Vowel\")"
   ]
  },
  {
   "cell_type": "code",
   "execution_count": 34,
   "metadata": {},
   "outputs": [
    {
     "name": "stdout",
     "output_type": "stream",
     "text": [
      "Enter magnitude of Triangle base: 8\n",
      "Enter magnitude of Triangle height: 5\n",
      "Area of a Triangle with Height  5 and Base  8  is  20.0\n"
     ]
    }
   ],
   "source": [
    "# 9. Write a Python program that will accept the base and height of a triangle and compute the area\n",
    "\n",
    "b = int(input(\"Enter magnitude of Triangle base: \"))\n",
    "h = int(input(\"Enter magnitude of Triangle height: \"))\n",
    "area = (1/2)*b*h\n",
    "print(\"Area of a Triangle with Height \", h, \"and Base \", b ,\" is \", area)"
   ]
  },
  {
   "cell_type": "code",
   "execution_count": 38,
   "metadata": {},
   "outputs": [
    {
     "name": "stdout",
     "output_type": "stream",
     "text": [
      "Please enter principal amount: 100000\n",
      "Please Enter Rate of interest in %: 10\n",
      "Enter number of years for investment: 5\n",
      "After  5.0  years your principal amount  100000.0  over an interest rate of  10.0  will be  161051.00000000006\n"
     ]
    }
   ],
   "source": [
    "# 10. Write a Python program to compute the future value of a specified principal amount, rate of interest, and a number of years.\n",
    "\n",
    "p = float(input(\"Please enter principal amount: \"))\n",
    "r_per = float(input(\"Please Enter Rate of interest in %: \"))\n",
    "n = float(input(\"Enter number of years for investment: \"))\n",
    "\n",
    "r = r_per/100\n",
    "ROI = p * ((1 + (r))**n)\n",
    "print(\"After \", n, \" years your principal amount \", p, \" over an interest rate of \", r_per, \" will be \", ROI)\n"
   ]
  },
  {
   "cell_type": "code",
   "execution_count": 44,
   "metadata": {},
   "outputs": [
    {
     "name": "stdout",
     "output_type": "stream",
     "text": [
      "Enter Co-ordinate for x1: 2\n",
      "Enter Co-ordinate for x2: 4\n",
      "Enter Co-ordinate for y1: 4\n",
      "Enter Co-ordinate for y2: 4\n",
      "Distance between points  ( 2 , 4 ) and  ( 4 , 4 ) is  2\n"
     ]
    }
   ],
   "source": [
    "# 11. Write a Python program to compute the distance between the points (x1, y1) and (x2, y2).\n",
    "\n",
    "x1 = int(input(\"Enter Co-ordinate for x1: \"))\n",
    "x2 = int(input(\"Enter Co-ordinate for x2: \"))\n",
    "y1 = int(input(\"Enter Co-ordinate for y1: \"))\n",
    "y2 = int(input(\"Enter Co-ordinate for y2: \"))\n",
    "\n",
    "import math\n",
    "\n",
    "distance = math.sqrt(((x2-x1)**2)+((y2-y1)**2))\n",
    "print(\"Distance between points \", \"(\",x1, \",\", y1,\") and \", \"(\",x2, \",\",y2,\") is \",int(distance))"
   ]
  },
  {
   "cell_type": "code",
   "execution_count": 55,
   "metadata": {},
   "outputs": [
    {
     "name": "stdout",
     "output_type": "stream",
     "text": [
      "Enter height in Feet: 5.6\n",
      "There are  170 CM in  5.6  Feets\n"
     ]
    }
   ],
   "source": [
    "# 12. Write a Python program to convert height in feet to centimetres.\n",
    "\n",
    "ft = float(input(\"Enter height in Feet: \"))\n",
    "cm = ft * 30.48\n",
    "\n",
    "print(\"There are \", int(cm), \"CM in \",ft,\" Feets\" )"
   ]
  },
  {
   "cell_type": "code",
   "execution_count": 57,
   "metadata": {},
   "outputs": [
    {
     "name": "stdout",
     "output_type": "stream",
     "text": [
      "Enter Height in Cm: 169\n",
      "Enter Weight in Kg: 85\n",
      "Your BMI is  29\n"
     ]
    }
   ],
   "source": [
    "# 13. Write a Python program to calculate body mass index\n",
    "\n",
    "h = int(input(\"Enter Height in Cm: \"))\n",
    "w = int(input(\"Enter Weight in Kg: \"))\n",
    "BMI = (w/((h/100)**2))\n",
    "print(\"Your BMI is \", int(BMI))"
   ]
  },
  {
   "cell_type": "code",
   "execution_count": 4,
   "metadata": {},
   "outputs": [
    {
     "name": "stdout",
     "output_type": "stream",
     "text": [
      "Enter value of n5\n",
      "Sum of n Positive integers till  5  is  15\n"
     ]
    }
   ],
   "source": [
    "# 14. Write a python program to sum of the first n positive integers\n",
    "\n",
    "n = int(input(\"Enter value of n\"))\n",
    "sum = 0\n",
    "\n",
    "for num in range(0,n+1):\n",
    "    sum += num\n",
    "print(\"Sum of n Positive integers till \", n, \" is \",sum)\n",
    "\n"
   ]
  },
  {
   "cell_type": "code",
   "execution_count": 9,
   "metadata": {},
   "outputs": [
    {
     "name": "stdout",
     "output_type": "stream",
     "text": [
      "Enter a number: 146\n",
      "The sum of digits in given number is  11\n"
     ]
    }
   ],
   "source": [
    "# 15. Write a Python program to calculate the sum of the digits in an integer\n",
    "\n",
    "num = input(\"Enter a number: \")\n",
    "sum = 0\n",
    "for i in num:\n",
    "    sum += int(i)\n",
    "print(\"The sum of digits in given number is \",sum)"
   ]
  },
  {
   "cell_type": "code",
   "execution_count": 1,
   "metadata": {},
   "outputs": [
    {
     "name": "stdout",
     "output_type": "stream",
     "text": [
      "Enter a number: 4567\n",
      "The sum of digits in given number is  22\n"
     ]
    }
   ],
   "source": [
    "# 15. Write a Python program to calculate the sum of the digits in an integer\n",
    "\n",
    "num = input(\"Enter a number: \")\n",
    "sum = 0\n",
    "for i in num:\n",
    "    sum += int(i)\n",
    "print(\"The sum of digits in given number is \",sum)"
   ]
  },
  {
   "cell_type": "code",
   "execution_count": 18,
   "metadata": {},
   "outputs": [
    {
     "name": "stdout",
     "output_type": "stream",
     "text": [
      "Enter a decimal number: 5\n",
      "Binary Representation of  5  is  0b101\n"
     ]
    }
   ],
   "source": [
    "#16 Write a Python program to convert an decimal integer to binary\n",
    "\n",
    "num = int(input(\"Enter a decimal number: \"))\n",
    "\n",
    "print(\"Binary Representation of \",num, \" is \", bin(num))"
   ]
  },
  {
   "cell_type": "code",
   "execution_count": 20,
   "metadata": {},
   "outputs": [
    {
     "name": "stdout",
     "output_type": "stream",
     "text": [
      "Enter a decimal number: 32\n",
      "Binary Representation of  32  is  0b100000\n"
     ]
    }
   ],
   "source": [
    "#16 Write a Python program to convert an decimal integer to binary\n",
    "\n",
    "number = int(input(\"Enter a decimal number: \"))\n",
    "\n",
    "print(\"Binary Representation of \",number, \" is \", bin(number))"
   ]
  },
  {
   "cell_type": "code",
   "execution_count": 22,
   "metadata": {},
   "outputs": [
    {
     "name": "stdout",
     "output_type": "stream",
     "text": [
      "Enter a Binary number: 1101\n",
      "Decimal representation of  1101  is  13\n"
     ]
    }
   ],
   "source": [
    "# 17 Write a program to convert binary number to Decimal number\n",
    "\n",
    "bin_num = input(\"Enter a Binary number: \")\n",
    "decimal = int(bin_num, 2)\n",
    "print(\"Decimal representation of \", bin_num, \" is \",decimal)"
   ]
  },
  {
   "cell_type": "code",
   "execution_count": 23,
   "metadata": {},
   "outputs": [
    {
     "name": "stdout",
     "output_type": "stream",
     "text": [
      "Enter a Binary number: 1001\n",
      "Decimal representation of  1001  is  9\n"
     ]
    }
   ],
   "source": [
    "# 17 Write a program to convert binary number to Decimal number\n",
    "\n",
    "bin_num = input(\"Enter a Binary number: \")\n",
    "decimal = int(bin_num, 2)\n",
    "print(\"Decimal representation of \", bin_num, \" is \",decimal)"
   ]
  },
  {
   "cell_type": "code",
   "execution_count": 26,
   "metadata": {},
   "outputs": [
    {
     "name": "stdout",
     "output_type": "stream",
     "text": [
      "Enter TextQuickBrownFoxJumpsovertheDog\n",
      "9\n",
      "19\n"
     ]
    }
   ],
   "source": [
    "# 18 Input a text and count the occurrences of vowels and consonant\n",
    "\n",
    "text = str(input(\"Enter Text\"))\n",
    "count = 0\n",
    "vowels = 0\n",
    "for i in text:\n",
    "  if i == \"a\" or i==\"e\" or i==\"i\" or i==\"o\" or i==\"u\":\n",
    "    vowels +=1\n",
    "  else:\n",
    "    count += 1\n",
    "print(vowels)\n",
    "print(count)\n",
    "\n",
    "    "
   ]
  },
  {
   "cell_type": "code",
   "execution_count": 27,
   "metadata": {},
   "outputs": [
    {
     "name": "stdout",
     "output_type": "stream",
     "text": [
      "Enter TextAHA\n",
      "Text  AHA  is Palindrome\n"
     ]
    }
   ],
   "source": [
    "# 19 Write a program to check whether given input is palindrome or not.\n",
    "\n",
    "text = str(input(\"Enter Text\"))\n",
    "if text == text[::-1]:\n",
    "  print(\"Text \", text, \" is Palindrome\")\n",
    "else:\n",
    "  print(\"Text \", text, \" is not a Palindrome\")\n"
   ]
  },
  {
   "cell_type": "code",
   "execution_count": 28,
   "metadata": {},
   "outputs": [
    {
     "name": "stdout",
     "output_type": "stream",
     "text": [
      "Enter TextHello\n",
      "Text  Hello  is not a Palindrome\n"
     ]
    }
   ],
   "source": [
    "# 19 Write a program to check whether given input is palindrome or not.\n",
    "\n",
    "text = str(input(\"Enter Text\"))\n",
    "if text == text[::-1]:\n",
    "  print(\"Text \", text, \" is Palindrome\")\n",
    "else:\n",
    "  print(\"Text \", text, \" is not a Palindrome\")\n"
   ]
  },
  {
   "cell_type": "code",
   "execution_count": 29,
   "metadata": {},
   "outputs": [
    {
     "name": "stdout",
     "output_type": "stream",
     "text": [
      "Enter TextPython 3.2\n",
      "Characters:  6\n",
      "Numbers:  2\n",
      "Special Characters:  1\n",
      "Spaces:  1\n"
     ]
    }
   ],
   "source": [
    "# 20 Write a Python program that accepts a string and calculate the number of digits and letters\n",
    "\n",
    "text = str(input(\"Enter Text\"))\n",
    "numbers = 0\n",
    "alphabets = 0\n",
    "special_char = 0\n",
    "space = 0\n",
    "for i in text:\n",
    "  if i.isalpha():\n",
    "    alphabets +=1\n",
    "  elif i.isdigit():\n",
    "    numbers += 1\n",
    "  elif i == \" \":\n",
    "    space += 1\n",
    "  else:\n",
    "    special_char += 1\n",
    "print(\"Characters: \", alphabets)\n",
    "print(\"Numbers: \", numbers)\n",
    "print(\"Special Characters: \", special_char)\n",
    "print(\"Spaces: \", space)\n"
   ]
  },
  {
   "cell_type": "code",
   "execution_count": 30,
   "metadata": {},
   "outputs": [
    {
     "name": "stdout",
     "output_type": "stream",
     "text": [
      "* \r\n",
      "* * \r\n",
      "* * * \r\n",
      "* * * * \r\n",
      "* * * * * \r\n",
      "* * * * \r\n",
      "* * * \r\n",
      "* * \r\n",
      "* \r\n",
      "\r\n"
     ]
    }
   ],
   "source": [
    "# 21. Write a Python program to construct the following pattern\n",
    "\n",
    "for a in range (0, 5):\n",
    "    for b in range(0, a + 1):\n",
    "        print(\"*\", end=' ')\n",
    "    print(\"\\r\")\n",
    "for a in range (5, 0, -1):\n",
    "    for b in range(0, a -1):\n",
    "        print(\"*\", end=' ')\n",
    "    print(\"\\r\")\n"
   ]
  },
  {
   "cell_type": "code",
   "execution_count": 31,
   "metadata": {},
   "outputs": [
    {
     "name": "stdout",
     "output_type": "stream",
     "text": [
      "\n",
      "\n",
      "1 \n",
      "\n",
      "2 2 \n",
      "\n",
      "3 3 3 \n",
      "\n",
      "4 4 4 4 \n",
      "\n",
      "5 5 5 5 5 \n",
      "\n",
      "6 6 6 6 6 6 \n",
      "\n",
      "7 7 7 7 7 7 7 \n",
      "\n",
      "8 8 8 8 8 8 8 8 \n",
      "\n",
      "9 9 9 9 9 9 9 9 9 \n",
      "\n"
     ]
    }
   ],
   "source": [
    "# 22. Write a Python program to construct the following pattern\n",
    "\n",
    "for num in range(10):\n",
    "    for i in range(num):\n",
    "        print (num, end=\" \") #print number\n",
    "    print(\"\\n\")\n"
   ]
  },
  {
   "cell_type": "code",
   "execution_count": 32,
   "metadata": {},
   "outputs": [
    {
     "name": "stdout",
     "output_type": "stream",
     "text": [
      "1 \r\n",
      "1 2 \r\n",
      "1 2 3 \r\n",
      "1 2 3 4 \r\n",
      "1 2 3 4 5 \r\n",
      "1 2 3 4 \r\n",
      "1 2 3 \r\n",
      "1 2 \r\n",
      "1 \r\n",
      "\r\n"
     ]
    }
   ],
   "source": [
    "# 23. Write a Python program to construct the following pattern\n",
    "\n",
    "for i in range (1, 6):\n",
    "    for j in range(1, i + 1):\n",
    "        print(j, end=' ')\n",
    "    print(\"\\r\")\n",
    "for i in range (6, 1, -1):\n",
    "    for j in range(1, i -1):\n",
    "        print(j, end=' ')\n",
    "    print(\"\\r\")\n"
   ]
  },
  {
   "cell_type": "code",
   "execution_count": null,
   "metadata": {},
   "outputs": [],
   "source": []
  }
 ],
 "metadata": {
  "kernelspec": {
   "display_name": "Python 3",
   "language": "python",
   "name": "python3"
  },
  "language_info": {
   "codemirror_mode": {
    "name": "ipython",
    "version": 3
   },
   "file_extension": ".py",
   "mimetype": "text/x-python",
   "name": "python",
   "nbconvert_exporter": "python",
   "pygments_lexer": "ipython3",
   "version": "3.7.3"
  }
 },
 "nbformat": 4,
 "nbformat_minor": 2
}
