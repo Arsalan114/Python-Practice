{
 "cells": [
  {
   "cell_type": "code",
   "execution_count": 21,
   "metadata": {},
   "outputs": [
    {
     "name": "stdout",
     "output_type": "stream",
     "text": [
      "Name: Arsalan Qamar\n",
      "ID: AIC006210\n",
      "Centre: Gulshan Campus\n",
      "Slot: Sunday - 12 to 3PM\n",
      "Marks Obtained: 300\n",
      "Percentage: 60.0\n",
      "Grade: B\n"
     ]
    }
   ],
   "source": [
    "Name = \"Arsalan Qamar\"\n",
    "ID = \"AIC006210\"\n",
    "Centre = \"Gulshan Campus\"\n",
    "Slot = \"Sunday - 12 to 3PM\"\n",
    "\n",
    "\n",
    "Phy = 85\n",
    "maths = 76\n",
    "Eng = 74\n",
    "Comp = 65\n",
    "Chem = 58\n",
    "\n",
    "total_marks = Phy + maths + Eng + Comp\n",
    "str(total_marks)\n",
    "percentage = (total_marks/500)*100\n",
    "str(percentage)\n",
    "\n",
    "\n",
    "if percentage >=80:\n",
    "    grade= \"A-1\"\n",
    "if percentage >=70 and percentage<80:\n",
    "    grade=\"A\"\n",
    "if percentage >=60 and percentage<70:\n",
    "    grade=\"B\"\n",
    "if percentage >=50 and percentage<60:\n",
    "    grade=\"C\"\n",
    "if percentage <50:\n",
    "    grade=\"F\"\n",
    "    \n",
    "print(\"Name: \"+Name)\n",
    "print(\"ID: \"+ID)\n",
    "print(\"Centre: \"+Centre)\n",
    "print(\"Slot: \"+Slot)\n",
    "print(\"Marks Obtained: \"+str(total_marks))\n",
    "print(\"Percentage: \"+str(percentage))\n",
    "print(\"Grade: \"+grade)"
   ]
  },
  {
   "cell_type": "code",
   "execution_count": null,
   "metadata": {},
   "outputs": [],
   "source": []
  },
  {
   "cell_type": "code",
   "execution_count": null,
   "metadata": {},
   "outputs": [],
   "source": []
  }
 ],
 "metadata": {
  "kernelspec": {
   "display_name": "Python 3",
   "language": "python",
   "name": "python3"
  },
  "language_info": {
   "codemirror_mode": {
    "name": "ipython",
    "version": 3
   },
   "file_extension": ".py",
   "mimetype": "text/x-python",
   "name": "python",
   "nbconvert_exporter": "python",
   "pygments_lexer": "ipython3",
   "version": "3.7.3"
  }
 },
 "nbformat": 4,
 "nbformat_minor": 2
}
